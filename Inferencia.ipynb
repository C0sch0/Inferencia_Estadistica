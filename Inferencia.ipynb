{
 "cells": [
  {
   "cell_type": "code",
   "execution_count": 3,
   "metadata": {},
   "outputs": [
    {
     "data": {
      "text/plain": [
       "['/Users/diiru/anaconda/lib/python3.5/site-packages/ipykernel_launcher.py',\n",
       " '-f',\n",
       " '/Users/diiru/Library/Jupyter/runtime/kernel-67a46175-eef3-45e0-aaec-3cad0bbad85c.json']"
      ]
     },
     "execution_count": 3,
     "metadata": {},
     "output_type": "execute_result"
    }
   ],
   "source": [
    "import sqlite3 as lite\n",
    "import pandas\n",
    "import openpyxl\n",
    "from os import sys\n",
    "sys.argv\n"
   ]
  },
  {
   "cell_type": "code",
   "execution_count": null,
   "metadata": {},
   "outputs": [],
   "source": [
    "from openpyxl import load_workbook\n",
    "import csv\n",
    "from os import sys\n",
    "\n",
    "def get_all_sheets(excel_file):\n",
    "    sheets = []\n",
    "    workbook = load_workbook(excel_file,read_only=True,data_only=True)\n",
    "    all_worksheets = workbook.get_sheet_names()\n",
    "    for worksheet_name in all_worksheets:\n",
    "        sheets.append(worksheet_name)\n",
    "    return sheets\n",
    "\n",
    "def csv_from_excel(excel_file, sheets):\n",
    "    workbook = load_workbook(excel_file,read_only=True,data_only=True)\n",
    "    for worksheet_name in sheets:\n",
    "        print(\"Export \" + worksheet_name + \" ...\")\n",
    "        try:\n",
    "            worksheet = workbook.get_sheet_by_name(worksheet_name)\n",
    "        except KeyError:\n",
    "            print(\"Could not find \" + worksheet_name)\n",
    "            sys.exit(1)\n",
    "\n",
    "        your_csv_file = open(''.join([worksheet_name,'.csv']), 'w', encoding='utf-8')\n",
    "        wr = csv.writer(your_csv_file, quoting=csv.QUOTE_ALL)\n",
    "        for row in worksheet.iter_rows():\n",
    "            lrow = []\n",
    "            for cell in row:\n",
    "                lrow.append(cell.value)\n",
    "            wr.writerow(lrow)\n",
    "        print(\" ... done\")\n",
    "    your_csv_file.close()\n",
    "\n",
    "sheets = [\"201601\",\"201602\",\"201603\",\"201604\",\"201605\",\"201606\",\"201607\",\"201608\",\"201609\",\"201610\",\"201611\",\"201612\"]\n",
    "csv_from_excel('/Users/diiru/Desktop/Consultas/BD/Avansalud/Hospitalario/2016.xlsx', sheets)"
   ]
  },
  {
   "cell_type": "code",
   "execution_count": null,
   "metadata": {
    "collapsed": true
   },
   "outputs": [],
   "source": []
  }
 ],
 "metadata": {
  "kernelspec": {
   "display_name": "Python 3",
   "language": "python",
   "name": "python3"
  },
  "language_info": {
   "codemirror_mode": {
    "name": "ipython",
    "version": 3
   },
   "file_extension": ".py",
   "mimetype": "text/x-python",
   "name": "python",
   "nbconvert_exporter": "python",
   "pygments_lexer": "ipython3",
   "version": "3.5.3"
  }
 },
 "nbformat": 4,
 "nbformat_minor": 2
}
